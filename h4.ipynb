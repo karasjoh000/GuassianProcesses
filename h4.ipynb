{
 "cells": [
  {
   "cell_type": "code",
   "execution_count": 2,
   "metadata": {},
   "outputs": [],
   "source": [
    "import tensorflow as tf \n",
    "import numpy as np \n",
    "import matplotlib.pyplot as plt\n",
    "import tensorflow_probability as tfp\n",
    "import math \n",
    "import idx2numpy\n",
    "import pandas as pd\n",
    "import random\n",
    "from mpl_toolkits.mplot3d import Axes3D\n",
    "%matplotlib inline"
   ]
  },
  {
   "cell_type": "code",
   "execution_count": 4,
   "metadata": {},
   "outputs": [],
   "source": [
    "# load the data \n",
    "train_x = idx2numpy.convert_from_file('./mnist/train-images-idx3-ubyte').astype(float)\n",
    "train_y = idx2numpy.convert_from_file('./mnist/train-labels-idx1-ubyte').astype(float)\n",
    "test_x = idx2numpy.convert_from_file('./mnist/t10k-images-idx3-ubyte').astype(float)\n",
    "test_y = idx2numpy.convert_from_file('./mnist/t10k-labels-idx1-ubyte').astype(float)"
   ]
  },
  {
   "cell_type": "code",
   "execution_count": 5,
   "metadata": {},
   "outputs": [
    {
     "data": {
      "text/plain": [
       "(60000, 784)"
      ]
     },
     "execution_count": 5,
     "metadata": {},
     "output_type": "execute_result"
    }
   ],
   "source": [
    "# reshape all of the data. \n",
    "train_x_r = train_x.reshape((60000, 784))\n",
    "train_x_r.shape"
   ]
  },
  {
   "cell_type": "code",
   "execution_count": 11,
   "metadata": {},
   "outputs": [],
   "source": [
    "# get the sevens. \n",
    "sevens = []\n",
    "for i in range(0, train_y.shape[0]): \n",
    "    if train_y[i] == 7: \n",
    "        sevens.append(train_x_r[i, :])"
   ]
  },
  {
   "cell_type": "code",
   "execution_count": 14,
   "metadata": {},
   "outputs": [
    {
     "data": {
      "text/plain": [
       "(6265, 784)"
      ]
     },
     "execution_count": 14,
     "metadata": {},
     "output_type": "execute_result"
    }
   ],
   "source": [
    "sevens = np.array(sevens)\n",
    "sevens.shape"
   ]
  },
  {
   "cell_type": "code",
   "execution_count": null,
   "metadata": {},
   "outputs": [],
   "source": []
  }
 ],
 "metadata": {
  "kernelspec": {
   "display_name": "Python 3",
   "language": "python",
   "name": "python3"
  },
  "language_info": {
   "codemirror_mode": {
    "name": "ipython",
    "version": 3
   },
   "file_extension": ".py",
   "mimetype": "text/x-python",
   "name": "python",
   "nbconvert_exporter": "python",
   "pygments_lexer": "ipython3",
   "version": "3.7.6"
  }
 },
 "nbformat": 4,
 "nbformat_minor": 2
}
